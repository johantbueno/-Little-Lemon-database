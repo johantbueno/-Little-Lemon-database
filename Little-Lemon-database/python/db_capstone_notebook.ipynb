{
 "cells": [
  {
   "cell_type": "code",
   "execution_count": 10,
   "metadata": {},
   "outputs": [],
   "source": [
    "from mysql.connector import pooling\n",
    "from mysql.connector.connection import MySQLConnection\n",
    "from yaml import safe_load\n",
    "from typing import Dict"
   ]
  },
  {
   "cell_type": "code",
   "execution_count": 6,
   "metadata": {},
   "outputs": [],
   "source": [
    "db_config = safe_load(open('db_config.yml'))"
   ]
  },
  {
   "cell_type": "code",
   "execution_count": 24,
   "metadata": {},
   "outputs": [],
   "source": [
    "def create_connection_pool(config: Dict = db_config) -> MySQLConnection:\n",
    "    print('Creating connection pool..')\n",
    "\n",
    "    connection_pool = pooling.MySQLConnectionPool(\n",
    "        pool_name='my_pool',\n",
    "        pool_size=2,\n",
    "        **db_config\n",
    "    )\n",
    "\n",
    "    print('Returning connection pool..')\n",
    "    return connection_pool"
   ]
  },
  {
   "cell_type": "code",
   "execution_count": 25,
   "metadata": {},
   "outputs": [
    {
     "name": "stdout",
     "output_type": "stream",
     "text": [
      "Creating connection pool..\n",
      "Returning connection pool..\n"
     ]
    }
   ],
   "source": [
    "# Create a connection\n",
    "connection_pool = create_connection_pool()\n",
    "\n",
    "conn = connection_pool.get_connection()\n",
    "# Create a cursor object\n",
    "cursor = conn.cursor()"
   ]
  },
  {
   "cell_type": "code",
   "execution_count": 26,
   "metadata": {},
   "outputs": [
    {
     "name": "stdout",
     "output_type": "stream",
     "text": [
      "[('bookings',), ('customers',), ('menu',), ('menuitems',), ('orderdeliverystatus',), ('orders',), ('ordersview',), ('staff',)]\n"
     ]
    }
   ],
   "source": [
    "# Create and execute query\n",
    "show_tables_query = \"SHOW tables\" \n",
    "cursor.execute(show_tables_query)\n",
    "\n",
    "# Fetch and print results\n",
    "results = cursor.fetchall()\n",
    "print(results)"
   ]
  },
  {
   "cell_type": "code",
   "execution_count": 31,
   "metadata": {},
   "outputs": [
    {
     "name": "stdout",
     "output_type": "stream",
     "text": [
      "('John Doe', '123-456-7890', 'john.doe@example.com', Decimal('90'))\n",
      "('Bob Wilson', '333-555-7890', 'bob.wilson@example.com', Decimal('150'))\n",
      "('Alex Turner', '999-888-7777', 'alex.turner@example.com', Decimal('240'))\n",
      "('Jane Smith', '987-654-3210', 'jane.smith@example.com', Decimal('65'))\n",
      "('Grace Taylor', '111-444-5555', 'grace.taylor@example.com', Decimal('115'))\n",
      "('Ryan Miller', '123-567-8901', 'ryan.miller@example.com', Decimal('140'))\n"
     ]
    }
   ],
   "source": [
    "# Create query for promotional campaign\n",
    "promotional_campaign_query = '''SELECT \n",
    "                                    c.CustomerName AS \"Customer Name\", \n",
    "                                    c.ContactNumber AS \"Contact Number\",\n",
    "                                    c.Email AS \"Email\",\n",
    "                                    o.TotalCost AS \"Bill Amount\"\n",
    "                                FROM\n",
    "                                    customers as c\n",
    "                                JOIN\n",
    "                                    orders as o ON c.CustomerID = o.CustomerID\n",
    "                                WHERE\n",
    "                                    o.TotalCost > 60\n",
    "                             '''\n",
    "\n",
    "# Execute query and fetch results\n",
    "cursor.execute(promotional_campaign_query)\n",
    "\n",
    "campaign_results = cursor.fetchall()\n",
    "\n",
    "# Print \n",
    "for person in campaign_results:\n",
    "    print(person)"
   ]
  },
  {
   "cell_type": "code",
   "execution_count": null,
   "metadata": {},
   "outputs": [],
   "source": []
  }
 ],
 "metadata": {
  "kernelspec": {
   "display_name": "Python 3",
   "language": "python",
   "name": "python3"
  },
  "language_info": {
   "codemirror_mode": {
    "name": "ipython",
    "version": 3
   },
   "file_extension": ".py",
   "mimetype": "text/x-python",
   "name": "python",
   "nbconvert_exporter": "python",
   "pygments_lexer": "ipython3",
   "version": "3.11.7"
  }
 },
 "nbformat": 4,
 "nbformat_minor": 2
}
