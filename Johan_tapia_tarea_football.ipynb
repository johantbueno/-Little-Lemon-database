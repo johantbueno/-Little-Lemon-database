{
  "nbformat": 4,
  "nbformat_minor": 0,
  "metadata": {
    "colab": {
      "provenance": [],
      "authorship_tag": "ABX9TyMIQmJJrPjU0tcTPTunFt/U",
      "include_colab_link": true
    },
    "kernelspec": {
      "name": "python3",
      "display_name": "Python 3"
    },
    "language_info": {
      "name": "python"
    }
  },
  "cells": [
    {
      "cell_type": "markdown",
      "metadata": {
        "id": "view-in-github",
        "colab_type": "text"
      },
      "source": [
        "<a href=\"https://colab.research.google.com/github/johantbueno/-Little-Lemon-database/blob/main/Johan_tapia_tarea_football.ipynb\" target=\"_parent\"><img src=\"https://colab.research.google.com/assets/colab-badge.svg\" alt=\"Open In Colab\"/></a>"
      ]
    },
    {
      "cell_type": "code",
      "execution_count": 1,
      "metadata": {
        "id": "7MeYBbxbQk6v"
      },
      "outputs": [],
      "source": [
        "import pandas as pd\n",
        "\n",
        "# Cargar los datasets\n",
        "results_df = pd.read_csv('/content/results.csv')\n",
        "goalscorers_df = pd.read_csv('/content/goalscorers.csv')\n",
        "shootouts_df = pd.read_csv('/content/shootouts.csv')"
      ]
    },
    {
      "cell_type": "code",
      "source": [
        "# Cargar el dataset principal\n",
        "results_df = pd.read_csv('/content/results.csv')"
      ],
      "metadata": {
        "id": "q14STFUVYA9n"
      },
      "execution_count": 9,
      "outputs": []
    },
    {
      "cell_type": "code",
      "source": [
        "# Información inicial\n",
        "print(\"Información del dataset principal (results.csv):\")\n",
        "print(results_df.info())\n",
        "print(\"\\nPrimeros registros:\")\n",
        "print(results_df.head())"
      ],
      "metadata": {
        "colab": {
          "base_uri": "https://localhost:8080/"
        },
        "id": "1IsWLbawYA5t",
        "outputId": "b334ac39-8a69-4e0e-ab98-2491d030a2db"
      },
      "execution_count": 10,
      "outputs": [
        {
          "output_type": "stream",
          "name": "stdout",
          "text": [
            "Información del dataset principal (results.csv):\n",
            "<class 'pandas.core.frame.DataFrame'>\n",
            "RangeIndex: 47917 entries, 0 to 47916\n",
            "Data columns (total 9 columns):\n",
            " #   Column      Non-Null Count  Dtype \n",
            "---  ------      --------------  ----- \n",
            " 0   date        47917 non-null  object\n",
            " 1   home_team   47917 non-null  object\n",
            " 2   away_team   47917 non-null  object\n",
            " 3   home_score  47917 non-null  int64 \n",
            " 4   away_score  47917 non-null  int64 \n",
            " 5   tournament  47917 non-null  object\n",
            " 6   city        47917 non-null  object\n",
            " 7   country     47917 non-null  object\n",
            " 8   neutral     47917 non-null  bool  \n",
            "dtypes: bool(1), int64(2), object(6)\n",
            "memory usage: 3.0+ MB\n",
            "None\n",
            "\n",
            "Primeros registros:\n",
            "         date home_team away_team  home_score  away_score tournament     city  \\\n",
            "0  1872-11-30  Scotland   England           0           0   Friendly  Glasgow   \n",
            "1  1873-03-08   England  Scotland           4           2   Friendly   London   \n",
            "2  1874-03-07  Scotland   England           2           1   Friendly  Glasgow   \n",
            "3  1875-03-06   England  Scotland           2           2   Friendly   London   \n",
            "4  1876-03-04  Scotland   England           3           0   Friendly  Glasgow   \n",
            "\n",
            "    country  neutral  \n",
            "0  Scotland    False  \n",
            "1   England    False  \n",
            "2  Scotland    False  \n",
            "3   England    False  \n",
            "4  Scotland    False  \n"
          ]
        }
      ]
    },
    {
      "cell_type": "code",
      "source": [
        "# Identificar valores nulos\n",
        "print(\"\\nvalores nulos por columna\")\n",
        "print(results_df.isnull().sum())\n"
      ],
      "metadata": {
        "colab": {
          "base_uri": "https://localhost:8080/"
        },
        "id": "NJIyrCnCYA2E",
        "outputId": "75bf9e1e-a076-41ac-8ab7-b3adb2f08188"
      },
      "execution_count": 12,
      "outputs": [
        {
          "output_type": "stream",
          "name": "stdout",
          "text": [
            "\n",
            "valores nulos por columna\n",
            "date          0\n",
            "home_team     0\n",
            "away_team     0\n",
            "home_score    0\n",
            "away_score    0\n",
            "tournament    0\n",
            "city          0\n",
            "country       0\n",
            "neutral       0\n",
            "dtype: int64\n"
          ]
        }
      ]
    },
    {
      "cell_type": "code",
      "source": [
        "# Identificar nombres duplicados\n",
        "duplicados = results_df.duplicated()"
      ],
      "metadata": {
        "id": "FlJTPbHXZj8p"
      },
      "execution_count": 14,
      "outputs": []
    },
    {
      "cell_type": "code",
      "source": [
        "# Limpieza básica: eliminar duplicados (si los hay)\n",
        "results_df = results_df.drop_duplicates()"
      ],
      "metadata": {
        "id": "vqQeZAlfYAyi"
      },
      "execution_count": 15,
      "outputs": []
    },
    {
      "cell_type": "code",
      "source": [
        "# Imputación de valores faltantes\n",
        "# Variables categóricas: imputación por moda\n",
        "categorical_cols = results_df.select_dtypes(include=['object']).columns\n",
        "for col in categorical_cols:\n",
        "    if results_df[col].isnull().sum() > 0:\n",
        "        moda = results_df[col].mode()[0]\n",
        "        results_df[col].fillna(moda, inplace=True)"
      ],
      "metadata": {
        "id": "QBpAoZjhYAqK"
      },
      "execution_count": 17,
      "outputs": []
    },
    {
      "cell_type": "code",
      "source": [],
      "metadata": {
        "id": "ye2Cp1Q3acOZ"
      },
      "execution_count": null,
      "outputs": []
    },
    {
      "cell_type": "code",
      "source": [
        "# Variables numéricas: imputación por media"
      ],
      "metadata": {
        "id": "9qw7uqZ9Yjka"
      },
      "execution_count": null,
      "outputs": []
    },
    {
      "cell_type": "code",
      "source": [
        "# Verificar que no haya valores nulos restantes"
      ],
      "metadata": {
        "id": "0tJBh3-0Ykra"
      },
      "execution_count": null,
      "outputs": []
    },
    {
      "cell_type": "code",
      "source": [
        "# Guardar el dataset limpio (opcional)"
      ],
      "metadata": {
        "id": "gLcccjNBYm4S"
      },
      "execution_count": null,
      "outputs": []
    },
    {
      "cell_type": "markdown",
      "source": [
        "Exploración Inicial, EDA y Limpieza de Datos"
      ],
      "metadata": {
        "id": "heR3SHGiXxtq"
      }
    },
    {
      "cell_type": "code",
      "source": [
        "## Exploración inicial del dataset principal (results.csv)\n",
        "print(\"Información del dataset principal (results.csv):\")\n",
        "print(results_df.info())\n",
        "print(\"\\nPrimeros registros:\")\n",
        "print(results_df.head())"
      ],
      "metadata": {
        "colab": {
          "base_uri": "https://localhost:8080/"
        },
        "id": "aK_27--aSN5t",
        "outputId": "5f476db5-8423-49db-f2ee-47f9cc846954"
      },
      "execution_count": 8,
      "outputs": [
        {
          "output_type": "stream",
          "name": "stdout",
          "text": [
            "Información del dataset principal (results.csv):\n",
            "<class 'pandas.core.frame.DataFrame'>\n",
            "RangeIndex: 47917 entries, 0 to 47916\n",
            "Data columns (total 9 columns):\n",
            " #   Column      Non-Null Count  Dtype \n",
            "---  ------      --------------  ----- \n",
            " 0   date        47917 non-null  object\n",
            " 1   home_team   47917 non-null  object\n",
            " 2   away_team   47917 non-null  object\n",
            " 3   home_score  47917 non-null  int64 \n",
            " 4   away_score  47917 non-null  int64 \n",
            " 5   tournament  47917 non-null  object\n",
            " 6   city        47917 non-null  object\n",
            " 7   country     47917 non-null  object\n",
            " 8   neutral     47917 non-null  bool  \n",
            "dtypes: bool(1), int64(2), object(6)\n",
            "memory usage: 3.0+ MB\n",
            "None\n",
            "\n",
            "Primeros registros:\n",
            "         date home_team away_team  home_score  away_score tournament     city  \\\n",
            "0  1872-11-30  Scotland   England           0           0   Friendly  Glasgow   \n",
            "1  1873-03-08   England  Scotland           4           2   Friendly   London   \n",
            "2  1874-03-07  Scotland   England           2           1   Friendly  Glasgow   \n",
            "3  1875-03-06   England  Scotland           2           2   Friendly   London   \n",
            "4  1876-03-04  Scotland   England           3           0   Friendly  Glasgow   \n",
            "\n",
            "    country  neutral  \n",
            "0  Scotland    False  \n",
            "1   England    False  \n",
            "2  Scotland    False  \n",
            "3   England    False  \n",
            "4  Scotland    False  \n"
          ]
        }
      ]
    },
    {
      "cell_type": "code",
      "source": [
        "#Estadisticas descriptivas del dataset principal\n",
        "print(\"Estadísticas descriptivas del dataset principal (results.csv):\")\n",
        "print(results_df.describe(include=\"all\"))\n"
      ],
      "metadata": {
        "colab": {
          "base_uri": "https://localhost:8080/"
        },
        "id": "1gJxjc8bSPj1",
        "outputId": "e8c81f40-1aef-4a79-f8d7-b5b118b9f0fc"
      },
      "execution_count": 4,
      "outputs": [
        {
          "output_type": "stream",
          "name": "stdout",
          "text": [
            "Estadísticas descriptivas del dataset principal (results.csv):\n",
            "              date home_team away_team    home_score    away_score tournament  \\\n",
            "count        47917     47917     47917  47917.000000  47917.000000      47917   \n",
            "unique       16228       327       321           NaN           NaN        176   \n",
            "top     2012-02-29    Brazil   Uruguay           NaN           NaN   Friendly   \n",
            "freq            66       605       575           NaN           NaN      18040   \n",
            "mean           NaN       NaN       NaN      1.757873      1.181752        NaN   \n",
            "std            NaN       NaN       NaN      1.772538      1.399573        NaN   \n",
            "min            NaN       NaN       NaN      0.000000      0.000000        NaN   \n",
            "25%            NaN       NaN       NaN      1.000000      0.000000        NaN   \n",
            "50%            NaN       NaN       NaN      1.000000      1.000000        NaN   \n",
            "75%            NaN       NaN       NaN      2.000000      2.000000        NaN   \n",
            "max            NaN       NaN       NaN     31.000000     21.000000        NaN   \n",
            "\n",
            "                city        country neutral  \n",
            "count          47917          47917   47917  \n",
            "unique          2080            270       2  \n",
            "top     Kuala Lumpur  United States   False  \n",
            "freq             730           1407   35309  \n",
            "mean             NaN            NaN     NaN  \n",
            "std              NaN            NaN     NaN  \n",
            "min              NaN            NaN     NaN  \n",
            "25%              NaN            NaN     NaN  \n",
            "50%              NaN            NaN     NaN  \n",
            "75%              NaN            NaN     NaN  \n",
            "max              NaN            NaN     NaN  \n"
          ]
        }
      ]
    },
    {
      "cell_type": "code",
      "source": [
        "# Revision inicial de los otros datasets\n",
        "print(\"\\nInformación del dataset goalscorers.csv:\")\n",
        "print(goalscorers_df.info())\n",
        "print(\"\\nPrimeros registros de goalscorers.csv:\")\n",
        "print(goalscorers_df.head())"
      ],
      "metadata": {
        "colab": {
          "base_uri": "https://localhost:8080/"
        },
        "id": "0KPluvYmSPeE",
        "outputId": "f098aa9d-f7b0-406f-f081-259a25bd7d31"
      },
      "execution_count": 6,
      "outputs": [
        {
          "output_type": "stream",
          "name": "stdout",
          "text": [
            "\n",
            "Información del dataset goalscorers.csv:\n",
            "<class 'pandas.core.frame.DataFrame'>\n",
            "RangeIndex: 44362 entries, 0 to 44361\n",
            "Data columns (total 8 columns):\n",
            " #   Column     Non-Null Count  Dtype  \n",
            "---  ------     --------------  -----  \n",
            " 0   date       44362 non-null  object \n",
            " 1   home_team  44362 non-null  object \n",
            " 2   away_team  44362 non-null  object \n",
            " 3   team       44362 non-null  object \n",
            " 4   scorer     44313 non-null  object \n",
            " 5   minute     44103 non-null  float64\n",
            " 6   own_goal   44362 non-null  bool   \n",
            " 7   penalty    44362 non-null  bool   \n",
            "dtypes: bool(2), float64(1), object(5)\n",
            "memory usage: 2.1+ MB\n",
            "None\n",
            "\n",
            "Primeros registros de goalscorers.csv:\n",
            "         date  home_team away_team       team            scorer  minute  \\\n",
            "0  1916-07-02      Chile   Uruguay    Uruguay   José Piendibene    44.0   \n",
            "1  1916-07-02      Chile   Uruguay    Uruguay  Isabelino Gradín    55.0   \n",
            "2  1916-07-02      Chile   Uruguay    Uruguay  Isabelino Gradín    70.0   \n",
            "3  1916-07-02      Chile   Uruguay    Uruguay   José Piendibene    75.0   \n",
            "4  1916-07-06  Argentina     Chile  Argentina     Alberto Ohaco     2.0   \n",
            "\n",
            "   own_goal  penalty  \n",
            "0     False    False  \n",
            "1     False    False  \n",
            "2     False    False  \n",
            "3     False    False  \n",
            "4     False    False  \n"
          ]
        }
      ]
    },
    {
      "cell_type": "code",
      "source": [
        "print(\"\\nInformación del dataset shootouts.csv:\")\n",
        "print(shootouts_df.info())\n",
        "print(\"\\nPrimeros registros de shootouts.csv:\")\n",
        "print(shootouts_df.head())"
      ],
      "metadata": {
        "colab": {
          "base_uri": "https://localhost:8080/"
        },
        "id": "N-TbN5sWSPa8",
        "outputId": "42f1961b-3833-44ca-9168-331070f3d374"
      },
      "execution_count": 7,
      "outputs": [
        {
          "output_type": "stream",
          "name": "stdout",
          "text": [
            "\n",
            "Información del dataset shootouts.csv:\n",
            "<class 'pandas.core.frame.DataFrame'>\n",
            "RangeIndex: 645 entries, 0 to 644\n",
            "Data columns (total 5 columns):\n",
            " #   Column         Non-Null Count  Dtype \n",
            "---  ------         --------------  ----- \n",
            " 0   date           645 non-null    object\n",
            " 1   home_team      645 non-null    object\n",
            " 2   away_team      645 non-null    object\n",
            " 3   winner         645 non-null    object\n",
            " 4   first_shooter  230 non-null    object\n",
            "dtypes: object(5)\n",
            "memory usage: 25.3+ KB\n",
            "None\n",
            "\n",
            "Primeros registros de shootouts.csv:\n",
            "         date    home_team         away_team       winner first_shooter\n",
            "0  1967-08-22        India            Taiwan       Taiwan           NaN\n",
            "1  1971-11-14  South Korea  Vietnam Republic  South Korea           NaN\n",
            "2  1972-05-07  South Korea              Iraq         Iraq           NaN\n",
            "3  1972-05-17     Thailand       South Korea  South Korea           NaN\n",
            "4  1972-05-19     Thailand          Cambodia     Thailand           NaN\n"
          ]
        }
      ]
    },
    {
      "cell_type": "code",
      "source": [],
      "metadata": {
        "id": "-KWfDfkVSPYM"
      },
      "execution_count": null,
      "outputs": []
    },
    {
      "cell_type": "code",
      "source": [],
      "metadata": {
        "id": "N69ffQoBSPVM"
      },
      "execution_count": null,
      "outputs": []
    },
    {
      "cell_type": "code",
      "source": [],
      "metadata": {
        "id": "zscN5NY8SPSM"
      },
      "execution_count": null,
      "outputs": []
    },
    {
      "cell_type": "code",
      "source": [],
      "metadata": {
        "id": "0CYCWxaxSPPM"
      },
      "execution_count": null,
      "outputs": []
    },
    {
      "cell_type": "code",
      "source": [],
      "metadata": {
        "id": "aoxC5xesSPME"
      },
      "execution_count": null,
      "outputs": []
    },
    {
      "cell_type": "code",
      "source": [],
      "metadata": {
        "id": "EOzAnCeySPI1"
      },
      "execution_count": null,
      "outputs": []
    },
    {
      "cell_type": "code",
      "source": [],
      "metadata": {
        "id": "FV1nT6wnSPFM"
      },
      "execution_count": null,
      "outputs": []
    },
    {
      "cell_type": "code",
      "source": [],
      "metadata": {
        "id": "DbtlhqAcSO_8"
      },
      "execution_count": null,
      "outputs": []
    },
    {
      "cell_type": "code",
      "source": [],
      "metadata": {
        "id": "MQd_WyRsSO9M"
      },
      "execution_count": null,
      "outputs": []
    },
    {
      "cell_type": "code",
      "source": [],
      "metadata": {
        "id": "ofzm1_cDSO6e"
      },
      "execution_count": null,
      "outputs": []
    },
    {
      "cell_type": "code",
      "source": [],
      "metadata": {
        "id": "6xlIVnEiSO3d"
      },
      "execution_count": null,
      "outputs": []
    },
    {
      "cell_type": "code",
      "source": [],
      "metadata": {
        "id": "gcfEkyZgSO00"
      },
      "execution_count": null,
      "outputs": []
    },
    {
      "cell_type": "code",
      "source": [],
      "metadata": {
        "id": "qUQyHxTHSOyM"
      },
      "execution_count": null,
      "outputs": []
    },
    {
      "cell_type": "code",
      "source": [],
      "metadata": {
        "id": "d5QFThvsSOvU"
      },
      "execution_count": null,
      "outputs": []
    },
    {
      "cell_type": "code",
      "source": [],
      "metadata": {
        "id": "s3bn09OFSOqc"
      },
      "execution_count": null,
      "outputs": []
    },
    {
      "cell_type": "code",
      "source": [],
      "metadata": {
        "id": "aHNSCTjoSOiN"
      },
      "execution_count": null,
      "outputs": []
    },
    {
      "cell_type": "code",
      "source": [],
      "metadata": {
        "id": "vPu7qWZ9SOaE"
      },
      "execution_count": null,
      "outputs": []
    }
  ]
}